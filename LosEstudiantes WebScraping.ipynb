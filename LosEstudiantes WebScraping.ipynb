{
 "cells": [
  {
   "cell_type": "markdown",
   "metadata": {},
   "source": [
    "# Los Estudiantes Project"
   ]
  },
  {
   "cell_type": "markdown",
   "metadata": {},
   "source": [
    "## 1. Conseguir los datos."
   ]
  },
  {
   "cell_type": "code",
   "execution_count": 23,
   "metadata": {},
   "outputs": [],
   "source": [
    "# Import webdriver for web scraping.\n",
    "from selenium import webdriver\n",
    "import requests\n",
    "from bs4 import BeautifulSoup\n",
    "import pandas as pd\n",
    "import time"
   ]
  },
  {
   "cell_type": "code",
   "execution_count": 24,
   "metadata": {
    "scrolled": false
   },
   "outputs": [],
   "source": [
    "def get_teachers(url):\n",
    "    nombres_profesores = list()\n",
    "    for i in range(0, 20):\n",
    "        r = requests.get(url)\n",
    "        data = r.text\n",
    "\n",
    "        while(data.find(\"slug\") > 0):\n",
    "            ini_pos = data.find(\"slug\") + 7\n",
    "            contador = ini_pos\n",
    "            name = \"\"\n",
    "            while(data[contador] != ','):\n",
    "                name += data[contador]\n",
    "                contador += 1\n",
    "            name = name[0: len(name) - 1]\n",
    "            if name not in nombres_profesores:\n",
    "                nombres_profesores.append(name)\n",
    "            data = data[ini_pos + len(name): ]\n",
    "        time.sleep(1)\n",
    "    return nombres_profesores\n",
    "    "
   ]
  },
  {
   "cell_type": "code",
   "execution_count": 25,
   "metadata": {},
   "outputs": [
    {
     "data": {
      "text/plain": [
       "['matematicas',\n",
       " 'administracion-de-empresas',\n",
       " 'antropologia',\n",
       " 'arquitectura',\n",
       " 'artes-plasticas',\n",
       " 'biologia',\n",
       " 'cine-y-telivisionciencia-politica',\n",
       " 'contaduria-internacional',\n",
       " 'derecho',\n",
       " 'diseno',\n",
       " 'economia',\n",
       " 'filosofia',\n",
       " 'fisica',\n",
       " 'geociencias']"
      ]
     },
     "execution_count": 25,
     "metadata": {},
     "output_type": "execute_result"
    }
   ],
   "source": [
    "carrers = \"matematicas administracion-de-empresas antropologia arquitectura artes-plasticas biologia cine-y-telivision\"\n",
    "carrers += \"ciencia-politica contaduria-internacional derecho diseno economia filosofia fisica geociencias\"\n",
    "carrers = carrers.split(\" \")\n",
    "carrers"
   ]
  },
  {
   "cell_type": "code",
   "execution_count": 26,
   "metadata": {},
   "outputs": [],
   "source": [
    "url = \"https://api.losestudiantes.co/universidades/universidad-nacional/programa/\"\n",
    "profesores_departamento = list()\n",
    "\n",
    "for c in carrers:\n",
    "    url = \"https://api.losestudiantes.co/universidades/universidad-nacional/programa/\"\n",
    "    temp = url + c + \"/sample\"\n",
    "    profesores_departamento.append(get_teachers(temp))\n",
    "    break"
   ]
  },
  {
   "cell_type": "code",
   "execution_count": 27,
   "metadata": {
    "scrolled": true
   },
   "outputs": [
    {
     "data": {
      "text/plain": [
       "['david-stivens-siervo',\n",
       " 'matematicas',\n",
       " 'german-preciado-lopez',\n",
       " 'victor-manuel-ardila-de-la-peña',\n",
       " 'agustin-moreno-canadas',\n",
       " 'efrain-camilo-pardo-garcia',\n",
       " 'juan-andres-montoya-arguello',\n",
       " 'ricardo-ariel-pastran-ramirez',\n",
       " 'jose-israel-merchan-herrera',\n",
       " 'jose-luis-ramirez',\n",
       " 'walter-andres-paez-gaviria',\n",
       " 'jose-reinaldo-montanez-puentes',\n",
       " 'hector-fabian-ramirez-ospina',\n",
       " 'natalia-camila-pinzon-cortes',\n",
       " 'mauricio-bogoya-lopez',\n",
       " 'rene-erlin-castillo',\n",
       " 'sandra-marleny-perilla-monroy',\n",
       " 'hector-camilo-chaparro-gutierrez',\n",
       " 'andres-chacon-capera',\n",
       " 'nestor-raul-pachon-rubiano',\n",
       " 'gustavo-adolfo-nieto-clavijo',\n",
       " 'luis-roberto-quicazan-acosta',\n",
       " 'claudio-rodriguez-beltran',\n",
       " 'omar-andres-cuervo-fernandez',\n",
       " 'juan-gabriel-triana-laverde',\n",
       " 'helbert-javier-venegas-ramirez',\n",
       " 'guillermo-rodriguez-blanco',\n",
       " 'milton-armando-reyes-villamil',\n",
       " 'clara-helena-sanchez-botero',\n",
       " 'cesar-augusto-gomez-sierra',\n",
       " 'juan-carlos-hernandez-rincon',\n",
       " 'pedro-hernan-zambrano-ramirez',\n",
       " 'andrés-ricardo-rodríguez-nagles',\n",
       " 'eduardo-cardenas-gomez',\n",
       " 'hernando-gaitan-orjuela',\n",
       " 'jhon-jairo-sosa-rosero',\n",
       " 'armando-zarruk-rivera',\n",
       " 'angela-rocío-fuquen-tibatá',\n",
       " 'mohammed-el-aidi',\n",
       " 'rafael-melo-jimenez',\n",
       " 'jeanneth-galeano-penaloza',\n",
       " 'ivon-andrea-dorado-correa',\n",
       " 'yesid-esteban-clavijo-penagos',\n",
       " 'lorenzo-maria-acosta-gempeler',\n",
       " 'leonardo-rendon-arbelaez',\n",
       " 'clara-marina-neira-uribe',\n",
       " 'helena-dulcey-hernandez',\n",
       " 'arley-ramses-gomez-rios',\n",
       " 'edward-samuel-becerra-rojas',\n",
       " 'liliana-constanza-romero-marroquin',\n",
       " 'christian-nolasco-serna',\n",
       " 'herbert-alonso-dueñas-ruiz',\n",
       " 'rodrigo-de-castro-korgi',\n",
       " 'jaime-andres-robayo-mesa',\n",
       " 'francisco-albeiro-gomez-jaramillo',\n",
       " 'paul-harritson-villamil-hernandez',\n",
       " 'gustavo-nevardo-rubiano-ortegon',\n",
       " 'alexandre-sinitsyne',\n",
       " 'fernando-zalamea-traba',\n",
       " 'margaret-johanna-garzon-merchan',\n",
       " 'jose-jorge-sierra-molina',\n",
       " 'ronald-gentil-rodriguez-giraldo',\n",
       " 'german-eduardo-fonseca-buitrago',\n",
       " 'alina-fedosova',\n",
       " 'serafin-bautista-diaz',\n",
       " 'juan-carlos-juajibioy-otero',\n",
       " 'humberto-sarria-zapata',\n",
       " 'javier-alfonso-moreno-carrillo',\n",
       " 'ivan-castro-chadid',\n",
       " 'felix-humberto-soriano-mendez',\n",
       " 'martha-cecilia-moreno-penagos',\n",
       " 'daniel-felipe-castro-ovalle',\n",
       " 'gabriel-ignacio-padilla-leon',\n",
       " 'alexis-georges-denis-irlande',\n",
       " 'edixon-manuel-rojas-santana',\n",
       " 'myriam-leonor-campos-florez',\n",
       " 'fabian-ricardo-muñoz-reyes',\n",
       " 'ibeth-marcela-rubio-perilla',\n",
       " 'alejandro-santacruz-hidalgo',\n",
       " 'ingrid-mayerly-ojeda-otalora',\n",
       " 'margarita-ospina-pulido',\n",
       " 'john-fernando-bolanos-mendez',\n",
       " 'john-jaime-rodriguez-vega',\n",
       " 'hernan-garzon-gutierrez',\n",
       " 'stiven-leonardo-silva-castillo',\n",
       " 'olga-lucia-escobar-medina',\n",
       " 'franqui-solis-cardenas-poloche',\n",
       " 'leonid-lebedev',\n",
       " 'zulima-ortiz-bayona',\n",
       " 'sandra-carolina-garcia-martinez',\n",
       " 'oscar-mauricio-parra-baquero',\n",
       " 'john-alexander-narvaez-cancimansi',\n",
       " 'omar-duque-gomez',\n",
       " 'epifanio-lozano-ayala',\n",
       " 'alejandra-sanchez-vasquez',\n",
       " 'victor-manuel-tapia-espinosa',\n",
       " 'jose-oswaldo-lezama-serrano',\n",
       " 'daniel-alfonso-bojaca-torres',\n",
       " 'mauricio-lopez-hernandez']"
      ]
     },
     "execution_count": 27,
     "metadata": {},
     "output_type": "execute_result"
    }
   ],
   "source": [
    "# Profesores matematicas UNAL.\n",
    "profesores_departamento[0]"
   ]
  },
  {
   "cell_type": "code",
   "execution_count": null,
   "metadata": {},
   "outputs": [],
   "source": [
    "# Open tsv file to save info.\n",
    "#out_file = open('./opiniones2.tsv', 'a')\n",
    "#tsv_writer = csv.writer(out_file, delimiter='\\t')\n",
    "\n",
    "opiniones = list()\n",
    "calificaciones = list()\n",
    "    \n",
    "# Load teachers reviews.\n",
    "for p in profesores_departamento[0]:\n",
    "    link_profesor = \"https://losestudiantes.co/universidad-nacional/matematicas/profesores/\" + p\n",
    "    \n",
    "    r = requests.get(link_profesor)\n",
    "    data = r.text\n",
    "    soup = BeautifulSoup(data, \"lxml\")\n",
    "    posts = soup.find_all(\"li\", class_=\"jsx-1682178024 post\")\n",
    "    \n",
    "    for p in posts:\n",
    "        \n",
    "        calificacion_docente = p.find(\"span\", class_ = \"jsx-1682178024 numeroStats\").getText() \n",
    "        calificaciones.append(calificacion_docente)\n",
    "        \n",
    "        opinion = p.find(\"div\", class_ = \"jsx-1682178024 lineBreak\").getText()\n",
    "        opiniones.append(opinion)\n",
    "        \n",
    "        #tsv_writer.writerow([opinion, calificacion_docente])\n",
    "        \n",
    "        #print(\"-------------------------------------\")\n",
    "        #print(\"\")\n",
    "    \n",
    "    time.sleep(1)\n",
    "\n",
    "print(\"Finalizado.\")"
   ]
  },
  {
   "cell_type": "code",
   "execution_count": 43,
   "metadata": {},
   "outputs": [],
   "source": [
    "# Load dataframe.\n",
    "d = {\"Review\": opiniones, \"Calification\": calificaciones}\n",
    "df = pd.DataFrame(data = d)\n",
    "df.to_csv(\"./opiniones3.csv\")"
   ]
  },
  {
   "cell_type": "markdown",
   "metadata": {},
   "source": [
    "## 2. Procesar los datos."
   ]
  },
  {
   "cell_type": "code",
   "execution_count": 4,
   "metadata": {},
   "outputs": [],
   "source": [
    "import numpy as np\n",
    "import matplotlib.pyplot as plt\n",
    "import pandas as pd"
   ]
  },
  {
   "cell_type": "code",
   "execution_count": 5,
   "metadata": {},
   "outputs": [
    {
     "data": {
      "text/html": [
       "<div>\n",
       "<style scoped>\n",
       "    .dataframe tbody tr th:only-of-type {\n",
       "        vertical-align: middle;\n",
       "    }\n",
       "\n",
       "    .dataframe tbody tr th {\n",
       "        vertical-align: top;\n",
       "    }\n",
       "\n",
       "    .dataframe thead th {\n",
       "        text-align: right;\n",
       "    }\n",
       "</style>\n",
       "<table border=\"1\" class=\"dataframe\">\n",
       "  <thead>\n",
       "    <tr style=\"text-align: right;\">\n",
       "      <th></th>\n",
       "      <th>Review</th>\n",
       "      <th>Calification</th>\n",
       "    </tr>\n",
       "  </thead>\n",
       "  <tbody>\n",
       "    <tr>\n",
       "      <th>0</th>\n",
       "      <td>No me gusto para nada su manera de enseñar, er...</td>\n",
       "      <td>2.0</td>\n",
       "    </tr>\n",
       "    <tr>\n",
       "      <th>1</th>\n",
       "      <td>Explica for dummies pero califica nivel expert...</td>\n",
       "      <td>3.0</td>\n",
       "    </tr>\n",
       "    <tr>\n",
       "      <th>2</th>\n",
       "      <td>Maneja bastante bien el tema y resolvía la may...</td>\n",
       "      <td>3.0</td>\n",
       "    </tr>\n",
       "    <tr>\n",
       "      <th>3</th>\n",
       "      <td>un profesor unico la verdad, como muchos dicen...</td>\n",
       "      <td>4.4</td>\n",
       "    </tr>\n",
       "    <tr>\n",
       "      <th>4</th>\n",
       "      <td>Pros: Explica muy bien\\nTiene clara la temátic...</td>\n",
       "      <td>3.9</td>\n",
       "    </tr>\n",
       "  </tbody>\n",
       "</table>\n",
       "</div>"
      ],
      "text/plain": [
       "                                              Review  Calification\n",
       "0  No me gusto para nada su manera de enseñar, er...           2.0\n",
       "1  Explica for dummies pero califica nivel expert...           3.0\n",
       "2  Maneja bastante bien el tema y resolvía la may...           3.0\n",
       "3  un profesor unico la verdad, como muchos dicen...           4.4\n",
       "4  Pros: Explica muy bien\\nTiene clara la temátic...           3.9"
      ]
     },
     "execution_count": 5,
     "metadata": {},
     "output_type": "execute_result"
    }
   ],
   "source": [
    "dataset = pd.read_csv(\"./opiniones3.csv\")\n",
    "dataset.drop(\"Unnamed: 0\", axis = 1, inplace = True)\n",
    "dataset.head()"
   ]
  },
  {
   "cell_type": "code",
   "execution_count": 19,
   "metadata": {},
   "outputs": [
    {
     "name": "stderr",
     "output_type": "stream",
     "text": [
      "[nltk_data] Downloading package stopwords to C:\\Users\\Juan Esteban\n",
      "[nltk_data]     Cepeda\\AppData\\Roaming\\nltk_data...\n",
      "[nltk_data]   Unzipping corpora\\stopwords.zip.\n"
     ]
    },
    {
     "data": {
      "text/plain": [
       "True"
      ]
     },
     "execution_count": 19,
     "metadata": {},
     "output_type": "execute_result"
    }
   ],
   "source": [
    "import nltk\n",
    "nltk.download(\"stopwords\")"
   ]
  },
  {
   "cell_type": "code",
   "execution_count": 64,
   "metadata": {},
   "outputs": [],
   "source": [
    "from nltk.corpus import stopwords\n",
    "from nltk.stem.porter import PorterStemmer\n",
    "from nltk.stem import SnowballStemmer\n",
    "import re"
   ]
  },
  {
   "cell_type": "code",
   "execution_count": 65,
   "metadata": {},
   "outputs": [
    {
     "data": {
      "text/plain": [
       "'gusto manera enseñar extraño intimidant estricto dejo primer parcial persona llegaron minuto tard casi entendia exlpicaba debia estudiar clasecon extraño estricto casi entendia'"
      ]
     },
     "execution_count": 65,
     "metadata": {},
     "output_type": "execute_result"
    }
   ],
   "source": [
    "# Opcion 1.\n",
    "review = re.sub(\"[^a-zA-zñ]\", \" \", dataset[\"Review\"][0])\n",
    "review = review.lower()\n",
    "review = review.split()\n",
    "ps = PorterStemmer()\n",
    "review = [ps.stem(word) for word in review if not word in set(stopwords.words(\"spanish\"))]\n",
    "review = \" \".join(review)\n",
    "review "
   ]
  },
  {
   "cell_type": "code",
   "execution_count": 67,
   "metadata": {},
   "outputs": [
    {
     "data": {
      "text/plain": [
       "'gust maner enseñ extrañ intimid estrict dej prim parcial person lleg minut tard casi entendi exlpic debi estudi clasecons extrañ estrict casi entendi'"
      ]
     },
     "execution_count": 67,
     "metadata": {},
     "output_type": "execute_result"
    }
   ],
   "source": [
    "# Opcion 2. \n",
    "review = re.sub(\"[^a-zA-zñ]\", \" \", dataset[\"Review\"][0])\n",
    "review = review.lower()\n",
    "review = review.split()\n",
    "stemmer = SnowballStemmer(\"spanish\")\n",
    "review = [stemmer.stem(word) for word in review if not word in set(stopwords.words(\"spanish\"))]\n",
    "review = \" \".join(review)\n",
    "review "
   ]
  },
  {
   "cell_type": "code",
   "execution_count": null,
   "metadata": {},
   "outputs": [],
   "source": []
  }
 ],
 "metadata": {
  "kernelspec": {
   "display_name": "Python 3",
   "language": "python",
   "name": "python3"
  },
  "language_info": {
   "codemirror_mode": {
    "name": "ipython",
    "version": 3
   },
   "file_extension": ".py",
   "mimetype": "text/x-python",
   "name": "python",
   "nbconvert_exporter": "python",
   "pygments_lexer": "ipython3",
   "version": "3.7.3"
  }
 },
 "nbformat": 4,
 "nbformat_minor": 2
}
